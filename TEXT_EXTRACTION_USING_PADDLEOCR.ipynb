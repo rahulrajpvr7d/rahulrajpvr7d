{
  "nbformat": 4,
  "nbformat_minor": 0,
  "metadata": {
    "colab": {
      "name": "TEXT EXTRACTION USING PADDLEOCR",
      "provenance": [],
      "include_colab_link": true
    },
    "kernelspec": {
      "name": "python3",
      "display_name": "Python 3"
    },
    "language_info": {
      "name": "python"
    }
  },
  "cells": [
    {
      "cell_type": "markdown",
      "metadata": {
        "id": "view-in-github",
        "colab_type": "text"
      },
      "source": [
        "<a href=\"https://colab.research.google.com/github/rahulrajpvr7d/rahulrajpvr7d/blob/main/TEXT_EXTRACTION_USING_PADDLEOCR.ipynb\" target=\"_parent\"><img src=\"https://colab.research.google.com/assets/colab-badge.svg\" alt=\"Open In Colab\"/></a>"
      ]
    },
    {
      "cell_type": "markdown",
      "source": [
        "## **TEXT EXTRACTION USING PADDLEOCR**"
      ],
      "metadata": {
        "id": "IunXvjiRj82Z"
      }
    },
    {
      "cell_type": "markdown",
      "source": [
        "###**01. INSTALLING** PACKAGES"
      ],
      "metadata": {
        "id": "hGL2-3cDj_6P"
      }
    },
    {
      "cell_type": "code",
      "execution_count": null,
      "metadata": {
        "id": "tU6m4HtdawZm",
        "colab": {
          "base_uri": "https://localhost:8080/"
        },
        "outputId": "8b486a0d-4e40-439a-b4a6-b43472b6049f"
      },
      "outputs": [
        {
          "output_type": "stream",
          "name": "stdout",
          "text": [
            "Requirement already satisfied: paddleocr in /usr/local/lib/python3.7/dist-packages (2.4.0.4)\n",
            "Requirement already satisfied: premailer in /usr/local/lib/python3.7/dist-packages (from paddleocr) (3.10.0)\n",
            "Requirement already satisfied: shapely in /usr/local/lib/python3.7/dist-packages (from paddleocr) (1.8.1.post1)\n",
            "Requirement already satisfied: imgaug==0.4.0 in /usr/local/lib/python3.7/dist-packages (from paddleocr) (0.4.0)\n",
            "Requirement already satisfied: python-Levenshtein in /usr/local/lib/python3.7/dist-packages (from paddleocr) (0.12.2)\n",
            "Requirement already satisfied: visualdl in /usr/local/lib/python3.7/dist-packages (from paddleocr) (2.2.3)\n",
            "Requirement already satisfied: numpy in /usr/local/lib/python3.7/dist-packages (from paddleocr) (1.21.5)\n",
            "Requirement already satisfied: cython in /usr/local/lib/python3.7/dist-packages (from paddleocr) (0.29.28)\n",
            "Requirement already satisfied: openpyxl in /usr/local/lib/python3.7/dist-packages (from paddleocr) (3.0.9)\n",
            "Requirement already satisfied: lmdb in /usr/local/lib/python3.7/dist-packages (from paddleocr) (0.99)\n",
            "Requirement already satisfied: lxml in /usr/local/lib/python3.7/dist-packages (from paddleocr) (4.2.6)\n",
            "Requirement already satisfied: pyclipper in /usr/local/lib/python3.7/dist-packages (from paddleocr) (1.3.0.post2)\n",
            "Requirement already satisfied: tqdm in /usr/local/lib/python3.7/dist-packages (from paddleocr) (4.63.0)\n",
            "Requirement already satisfied: scikit-image in /usr/local/lib/python3.7/dist-packages (from paddleocr) (0.18.3)\n",
            "Requirement already satisfied: opencv-contrib-python==4.4.0.46 in /usr/local/lib/python3.7/dist-packages (from paddleocr) (4.4.0.46)\n",
            "Requirement already satisfied: matplotlib in /usr/local/lib/python3.7/dist-packages (from imgaug==0.4.0->paddleocr) (3.2.2)\n",
            "Requirement already satisfied: scipy in /usr/local/lib/python3.7/dist-packages (from imgaug==0.4.0->paddleocr) (1.4.1)\n",
            "Requirement already satisfied: Pillow in /usr/local/lib/python3.7/dist-packages (from imgaug==0.4.0->paddleocr) (7.1.2)\n",
            "Requirement already satisfied: six in /usr/local/lib/python3.7/dist-packages (from imgaug==0.4.0->paddleocr) (1.15.0)\n",
            "Requirement already satisfied: opencv-python in /usr/local/lib/python3.7/dist-packages (from imgaug==0.4.0->paddleocr) (4.1.2.30)\n",
            "Requirement already satisfied: imageio in /usr/local/lib/python3.7/dist-packages (from imgaug==0.4.0->paddleocr) (2.4.1)\n",
            "Requirement already satisfied: tifffile>=2019.7.26 in /usr/local/lib/python3.7/dist-packages (from scikit-image->paddleocr) (2021.11.2)\n",
            "Requirement already satisfied: networkx>=2.0 in /usr/local/lib/python3.7/dist-packages (from scikit-image->paddleocr) (2.6.3)\n",
            "Requirement already satisfied: PyWavelets>=1.1.1 in /usr/local/lib/python3.7/dist-packages (from scikit-image->paddleocr) (1.3.0)\n",
            "Requirement already satisfied: kiwisolver>=1.0.1 in /usr/local/lib/python3.7/dist-packages (from matplotlib->imgaug==0.4.0->paddleocr) (1.4.0)\n",
            "Requirement already satisfied: python-dateutil>=2.1 in /usr/local/lib/python3.7/dist-packages (from matplotlib->imgaug==0.4.0->paddleocr) (2.8.2)\n",
            "Requirement already satisfied: cycler>=0.10 in /usr/local/lib/python3.7/dist-packages (from matplotlib->imgaug==0.4.0->paddleocr) (0.11.0)\n",
            "Requirement already satisfied: pyparsing!=2.0.4,!=2.1.2,!=2.1.6,>=2.0.1 in /usr/local/lib/python3.7/dist-packages (from matplotlib->imgaug==0.4.0->paddleocr) (3.0.7)\n",
            "Requirement already satisfied: typing-extensions in /usr/local/lib/python3.7/dist-packages (from kiwisolver>=1.0.1->matplotlib->imgaug==0.4.0->paddleocr) (3.10.0.2)\n",
            "Requirement already satisfied: et-xmlfile in /usr/local/lib/python3.7/dist-packages (from openpyxl->paddleocr) (1.1.0)\n",
            "Requirement already satisfied: cssselect in /usr/local/lib/python3.7/dist-packages (from premailer->paddleocr) (1.1.0)\n",
            "Requirement already satisfied: cachetools in /usr/local/lib/python3.7/dist-packages (from premailer->paddleocr) (4.2.4)\n",
            "Requirement already satisfied: cssutils in /usr/local/lib/python3.7/dist-packages (from premailer->paddleocr) (2.4.0)\n",
            "Requirement already satisfied: requests in /usr/local/lib/python3.7/dist-packages (from premailer->paddleocr) (2.23.0)\n",
            "Requirement already satisfied: importlib-metadata in /usr/local/lib/python3.7/dist-packages (from cssutils->premailer->paddleocr) (4.2.0)\n",
            "Requirement already satisfied: zipp>=0.5 in /usr/local/lib/python3.7/dist-packages (from importlib-metadata->cssutils->premailer->paddleocr) (3.7.0)\n",
            "Requirement already satisfied: setuptools in /usr/local/lib/python3.7/dist-packages (from python-Levenshtein->paddleocr) (57.4.0)\n",
            "Requirement already satisfied: chardet<4,>=3.0.2 in /usr/local/lib/python3.7/dist-packages (from requests->premailer->paddleocr) (3.0.4)\n",
            "Requirement already satisfied: idna<3,>=2.5 in /usr/local/lib/python3.7/dist-packages (from requests->premailer->paddleocr) (2.10)\n",
            "Requirement already satisfied: urllib3!=1.25.0,!=1.25.1,<1.26,>=1.21.1 in /usr/local/lib/python3.7/dist-packages (from requests->premailer->paddleocr) (1.24.3)\n",
            "Requirement already satisfied: certifi>=2017.4.17 in /usr/local/lib/python3.7/dist-packages (from requests->premailer->paddleocr) (2021.10.8)\n",
            "Requirement already satisfied: flask>=1.1.1 in /usr/local/lib/python3.7/dist-packages (from visualdl->paddleocr) (1.1.4)\n",
            "Requirement already satisfied: protobuf>=3.11.0 in /usr/local/lib/python3.7/dist-packages (from visualdl->paddleocr) (3.17.3)\n",
            "Requirement already satisfied: pandas in /usr/local/lib/python3.7/dist-packages (from visualdl->paddleocr) (1.3.5)\n",
            "Requirement already satisfied: shellcheck-py in /usr/local/lib/python3.7/dist-packages (from visualdl->paddleocr) (0.8.0.4)\n",
            "Requirement already satisfied: flake8>=3.7.9 in /usr/local/lib/python3.7/dist-packages (from visualdl->paddleocr) (4.0.1)\n",
            "Requirement already satisfied: pre-commit in /usr/local/lib/python3.7/dist-packages (from visualdl->paddleocr) (2.18.1)\n",
            "Requirement already satisfied: bce-python-sdk in /usr/local/lib/python3.7/dist-packages (from visualdl->paddleocr) (0.8.64)\n",
            "Requirement already satisfied: Flask-Babel>=1.0.0 in /usr/local/lib/python3.7/dist-packages (from visualdl->paddleocr) (2.0.0)\n",
            "Requirement already satisfied: mccabe<0.7.0,>=0.6.0 in /usr/local/lib/python3.7/dist-packages (from flake8>=3.7.9->visualdl->paddleocr) (0.6.1)\n",
            "Requirement already satisfied: pycodestyle<2.9.0,>=2.8.0 in /usr/local/lib/python3.7/dist-packages (from flake8>=3.7.9->visualdl->paddleocr) (2.8.0)\n",
            "Requirement already satisfied: pyflakes<2.5.0,>=2.4.0 in /usr/local/lib/python3.7/dist-packages (from flake8>=3.7.9->visualdl->paddleocr) (2.4.0)\n",
            "Requirement already satisfied: itsdangerous<2.0,>=0.24 in /usr/local/lib/python3.7/dist-packages (from flask>=1.1.1->visualdl->paddleocr) (1.1.0)\n",
            "Requirement already satisfied: click<8.0,>=5.1 in /usr/local/lib/python3.7/dist-packages (from flask>=1.1.1->visualdl->paddleocr) (7.1.2)\n",
            "Requirement already satisfied: Jinja2<3.0,>=2.10.1 in /usr/local/lib/python3.7/dist-packages (from flask>=1.1.1->visualdl->paddleocr) (2.11.3)\n",
            "Requirement already satisfied: Werkzeug<2.0,>=0.15 in /usr/local/lib/python3.7/dist-packages (from flask>=1.1.1->visualdl->paddleocr) (1.0.1)\n",
            "Requirement already satisfied: pytz in /usr/local/lib/python3.7/dist-packages (from Flask-Babel>=1.0.0->visualdl->paddleocr) (2018.9)\n",
            "Requirement already satisfied: Babel>=2.3 in /usr/local/lib/python3.7/dist-packages (from Flask-Babel>=1.0.0->visualdl->paddleocr) (2.9.1)\n",
            "Requirement already satisfied: MarkupSafe>=0.23 in /usr/local/lib/python3.7/dist-packages (from Jinja2<3.0,>=2.10.1->flask>=1.1.1->visualdl->paddleocr) (2.0.1)\n",
            "Requirement already satisfied: pycryptodome>=3.8.0 in /usr/local/lib/python3.7/dist-packages (from bce-python-sdk->visualdl->paddleocr) (3.14.1)\n",
            "Requirement already satisfied: future>=0.6.0 in /usr/local/lib/python3.7/dist-packages (from bce-python-sdk->visualdl->paddleocr) (0.16.0)\n",
            "Requirement already satisfied: pyyaml>=5.1 in /usr/local/lib/python3.7/dist-packages (from pre-commit->visualdl->paddleocr) (6.0)\n",
            "Requirement already satisfied: nodeenv>=0.11.1 in /usr/local/lib/python3.7/dist-packages (from pre-commit->visualdl->paddleocr) (1.6.0)\n",
            "Requirement already satisfied: identify>=1.0.0 in /usr/local/lib/python3.7/dist-packages (from pre-commit->visualdl->paddleocr) (2.4.12)\n",
            "Requirement already satisfied: toml in /usr/local/lib/python3.7/dist-packages (from pre-commit->visualdl->paddleocr) (0.10.2)\n",
            "Requirement already satisfied: virtualenv>=20.0.8 in /usr/local/lib/python3.7/dist-packages (from pre-commit->visualdl->paddleocr) (20.14.0)\n",
            "Requirement already satisfied: cfgv>=2.0.0 in /usr/local/lib/python3.7/dist-packages (from pre-commit->visualdl->paddleocr) (3.3.1)\n",
            "Requirement already satisfied: platformdirs<3,>=2 in /usr/local/lib/python3.7/dist-packages (from virtualenv>=20.0.8->pre-commit->visualdl->paddleocr) (2.5.1)\n",
            "Requirement already satisfied: distlib<1,>=0.3.1 in /usr/local/lib/python3.7/dist-packages (from virtualenv>=20.0.8->pre-commit->visualdl->paddleocr) (0.3.4)\n",
            "Requirement already satisfied: filelock<4,>=3.2 in /usr/local/lib/python3.7/dist-packages (from virtualenv>=20.0.8->pre-commit->visualdl->paddleocr) (3.6.0)\n"
          ]
        }
      ],
      "source": [
        "pip install paddleocr"
      ]
    },
    {
      "cell_type": "code",
      "source": [
        "pip install paddlepaddle -i https://mirror.baidu.com/pypi/simple"
      ],
      "metadata": {
        "id": "xhAb5RDAazNn",
        "colab": {
          "base_uri": "https://localhost:8080/"
        },
        "outputId": "98f0c1a6-db47-4a18-ec41-51b087d809c6"
      },
      "execution_count": null,
      "outputs": [
        {
          "output_type": "stream",
          "name": "stdout",
          "text": [
            "Looking in indexes: https://mirror.baidu.com/pypi/simple\n",
            "Requirement already satisfied: paddlepaddle in /usr/local/lib/python3.7/dist-packages (2.2.2)\n",
            "Requirement already satisfied: astor in /usr/local/lib/python3.7/dist-packages (from paddlepaddle) (0.8.1)\n",
            "Requirement already satisfied: protobuf>=3.1.0 in /usr/local/lib/python3.7/dist-packages (from paddlepaddle) (3.17.3)\n",
            "Requirement already satisfied: numpy>=1.13 in /usr/local/lib/python3.7/dist-packages (from paddlepaddle) (1.21.5)\n",
            "Requirement already satisfied: six in /usr/local/lib/python3.7/dist-packages (from paddlepaddle) (1.15.0)\n",
            "Requirement already satisfied: requests>=2.20.0 in /usr/local/lib/python3.7/dist-packages (from paddlepaddle) (2.23.0)\n",
            "Requirement already satisfied: Pillow in /usr/local/lib/python3.7/dist-packages (from paddlepaddle) (7.1.2)\n",
            "Requirement already satisfied: decorator in /usr/local/lib/python3.7/dist-packages (from paddlepaddle) (4.4.2)\n",
            "Requirement already satisfied: urllib3!=1.25.0,!=1.25.1,<1.26,>=1.21.1 in /usr/local/lib/python3.7/dist-packages (from requests>=2.20.0->paddlepaddle) (1.24.3)\n",
            "Requirement already satisfied: idna<3,>=2.5 in /usr/local/lib/python3.7/dist-packages (from requests>=2.20.0->paddlepaddle) (2.10)\n",
            "Requirement already satisfied: certifi>=2017.4.17 in /usr/local/lib/python3.7/dist-packages (from requests>=2.20.0->paddlepaddle) (2021.10.8)\n",
            "Requirement already satisfied: chardet<4,>=3.0.2 in /usr/local/lib/python3.7/dist-packages (from requests>=2.20.0->paddlepaddle) (3.0.4)\n"
          ]
        }
      ]
    },
    {
      "cell_type": "markdown",
      "source": [
        "### **02. IMPORTING LIBRARIES**"
      ],
      "metadata": {
        "id": "1_W6-nxTkHGL"
      }
    },
    {
      "cell_type": "code",
      "source": [
        "from paddleocr import PaddleOCR\n",
        "from termcolor import colored"
      ],
      "metadata": {
        "id": "sHwFM4Kza11O"
      },
      "execution_count": null,
      "outputs": []
    },
    {
      "cell_type": "markdown",
      "source": [
        "### **03. DEFINING FUNCTION**"
      ],
      "metadata": {
        "id": "piBf-DQrkMK7"
      }
    },
    {
      "cell_type": "code",
      "source": [
        "def paddle(image,lang):\n",
        "  x = str(lang)\n",
        "  ocr = PaddleOCR(use_angle_cls=True,lang=x)\n",
        "  result = ocr.ocr(image, cls=True)\n",
        "  print(colored(\"Extracted Text from the given image file is:\", 'blue', attrs=['bold']))\n",
        "  for res in result:\n",
        "    print(res[1][0])\n",
        "  return "
      ],
      "metadata": {
        "id": "ftdJpQ3ha2x5"
      },
      "execution_count": null,
      "outputs": []
    },
    {
      "cell_type": "markdown",
      "source": [
        "### **04. TESTING**"
      ],
      "metadata": {
        "id": "vHFmkqF5kQfC"
      }
    },
    {
      "cell_type": "code",
      "source": [
        "image = \"/content/chinese.jpg\"\n",
        "lang = \"ch\"\n",
        "paddle(image,lang)"
      ],
      "metadata": {
        "colab": {
          "base_uri": "https://localhost:8080/"
        },
        "id": "AvlNlDOAbmPf",
        "outputId": "61788d7c-5c5b-4424-eb33-93f41b0aeee5"
      },
      "execution_count": null,
      "outputs": [
        {
          "output_type": "stream",
          "name": "stdout",
          "text": [
            "[2022/04/05 09:05:53] ppocr DEBUG: Namespace(alpha=1.0, benchmark=False, beta=1.0, cls_batch_num=6, cls_image_shape='3, 48, 192', cls_model_dir='/root/.paddleocr/whl/cls/ch_ppocr_mobile_v2.0_cls_infer', cls_thresh=0.9, cpu_threads=10, crop_res_save_dir='./output', det=True, det_algorithm='DB', det_db_box_thresh=0.6, det_db_score_mode='fast', det_db_thresh=0.3, det_db_unclip_ratio=1.5, det_east_cover_thresh=0.1, det_east_nms_thresh=0.2, det_east_score_thresh=0.8, det_fce_box_type='poly', det_limit_side_len=960, det_limit_type='max', det_model_dir='/root/.paddleocr/whl/det/ch/ch_PP-OCRv2_det_infer', det_pse_box_thresh=0.85, det_pse_box_type='quad', det_pse_min_area=16, det_pse_scale=1, det_pse_thresh=0, det_sast_nms_thresh=0.2, det_sast_polygon=False, det_sast_score_thresh=0.5, draw_img_save_dir='./inference_results', drop_score=0.5, e2e_algorithm='PGNet', e2e_char_dict_path='./ppocr/utils/ic15_dict.txt', e2e_limit_side_len=768, e2e_limit_type='max', e2e_model_dir=None, e2e_pgnet_mode='fast', e2e_pgnet_score_thresh=0.5, e2e_pgnet_valid_set='totaltext', enable_mkldnn=False, fourier_degree=5, gpu_mem=500, help='==SUPPRESS==', image_dir=None, ir_optim=True, label_list=['0', '180'], lang='ch', layout_label_map=None, layout_path_model='lp://PubLayNet/ppyolov2_r50vd_dcn_365e_publaynet/config', max_batch_size=10, max_text_length=25, min_subgraph_size=15, mode='structure', ocr_version='PP-OCRv2', output='./output', precision='fp32', process_id=0, rec=True, rec_algorithm='CRNN', rec_batch_num=6, rec_char_dict_path='/usr/local/lib/python3.7/dist-packages/paddleocr/ppocr/utils/ppocr_keys_v1.txt', rec_image_shape='3, 32, 320', rec_model_dir='/root/.paddleocr/whl/rec/ch/ch_PP-OCRv2_rec_infer', save_crop_res=False, save_log_path='./log_output/', scales=[8, 16, 32], show_log=True, structure_version='STRUCTURE', table_char_dict_path=None, table_char_type='en', table_max_len=488, table_model_dir=None, total_process_num=1, type='ocr', use_angle_cls=True, use_dilation=False, use_gpu=False, use_mp=False, use_onnx=False, use_pdserving=False, use_space_char=True, use_tensorrt=False, vis_font_path='./doc/fonts/simfang.ttf', warmup=False)\n",
            "[2022/04/05 09:05:53] ppocr DEBUG: dt_boxes num : 14, elapse : 0.2633023262023926\n",
            "[2022/04/05 09:05:54] ppocr DEBUG: cls num  : 14, elapse : 0.4385800361633301\n",
            "[2022/04/05 09:05:57] ppocr DEBUG: rec_res num  : 14, elapse : 3.2395594120025635\n",
            "\u001b[1m\u001b[34mExtracted Text from the given image file is:\u001b[0m\n",
            "先做妈妈，后做爸爸\n",
            "说来奇怪，每条黄鳝在一生中都要经历一个\n",
            "先做妈妈，后做爸爸的过程。根据刘建康教授的\n",
            "研究，黄鳍从胚胎期到性成熟期，体长在10厘米\n",
            "以下时，生殖腺全为卵巢.都是雌的；当体长到36\n",
            "-38厘米时，有一部分开始性变，此时雌雄个体\n",
            "数儿乎相等；体长达到53厘米以上，发育成熟的\n",
            "雌黄鳝生下后代以后，则又全部变为雄黄鳝，都\n",
            "做起父亲来了。这就是粗大的黄鳝都是雄性的原\n",
            "因。有人要问，小黄鳍全都是雌的，大黄鳍又全都\n",
            "是雄的，那么它们的后代是从哪儿来的呢？原来，\n",
            "个体较小的雌黄鳝在发育成熟产卵后变成雄\n",
            "黄鳝，第三年它们就和下一代中的雌黄鳝进行交\n",
            "配生殖。黄鳝用这样的方式来延续自己的种族。\n"
          ]
        }
      ]
    },
    {
      "cell_type": "code",
      "source": [
        "image = \"/content/hindi.jpg\"\n",
        "lang = \"hi\"\n",
        "paddle(image,lang)"
      ],
      "metadata": {
        "colab": {
          "base_uri": "https://localhost:8080/"
        },
        "id": "Jsl88ZdP-TqU",
        "outputId": "23940d18-d5ff-49ff-cd98-938231de8eba"
      },
      "execution_count": null,
      "outputs": [
        {
          "output_type": "stream",
          "name": "stdout",
          "text": [
            "[2022/04/05 09:08:09] ppocr DEBUG: Namespace(alpha=1.0, benchmark=False, beta=1.0, cls_batch_num=6, cls_image_shape='3, 48, 192', cls_model_dir='/root/.paddleocr/whl/cls/ch_ppocr_mobile_v2.0_cls_infer', cls_thresh=0.9, cpu_threads=10, crop_res_save_dir='./output', det=True, det_algorithm='DB', det_db_box_thresh=0.6, det_db_score_mode='fast', det_db_thresh=0.3, det_db_unclip_ratio=1.5, det_east_cover_thresh=0.1, det_east_nms_thresh=0.2, det_east_score_thresh=0.8, det_fce_box_type='poly', det_limit_side_len=960, det_limit_type='max', det_model_dir='/root/.paddleocr/whl/det/en/en_ppocr_mobile_v2.0_det_infer', det_pse_box_thresh=0.85, det_pse_box_type='quad', det_pse_min_area=16, det_pse_scale=1, det_pse_thresh=0, det_sast_nms_thresh=0.2, det_sast_polygon=False, det_sast_score_thresh=0.5, draw_img_save_dir='./inference_results', drop_score=0.5, e2e_algorithm='PGNet', e2e_char_dict_path='./ppocr/utils/ic15_dict.txt', e2e_limit_side_len=768, e2e_limit_type='max', e2e_model_dir=None, e2e_pgnet_mode='fast', e2e_pgnet_score_thresh=0.5, e2e_pgnet_valid_set='totaltext', enable_mkldnn=False, fourier_degree=5, gpu_mem=500, help='==SUPPRESS==', image_dir=None, ir_optim=True, label_list=['0', '180'], lang='hi', layout_label_map=None, layout_path_model='lp://PubLayNet/ppyolov2_r50vd_dcn_365e_publaynet/config', max_batch_size=10, max_text_length=25, min_subgraph_size=15, mode='structure', ocr_version='PP-OCRv2', output='./output', precision='fp32', process_id=0, rec=True, rec_algorithm='CRNN', rec_batch_num=6, rec_char_dict_path='/usr/local/lib/python3.7/dist-packages/paddleocr/ppocr/utils/dict/devanagari_dict.txt', rec_image_shape='3, 32, 320', rec_model_dir='/root/.paddleocr/whl/rec/devanagari/devanagari_ppocr_mobile_v2.0_rec_infer', save_crop_res=False, save_log_path='./log_output/', scales=[8, 16, 32], show_log=True, structure_version='STRUCTURE', table_char_dict_path=None, table_char_type='en', table_max_len=488, table_model_dir=None, total_process_num=1, type='ocr', use_angle_cls=True, use_dilation=False, use_gpu=False, use_mp=False, use_onnx=False, use_pdserving=False, use_space_char=True, use_tensorrt=False, vis_font_path='./doc/fonts/simfang.ttf', warmup=False)\n",
            "[2022/04/05 09:08:09] ppocr DEBUG: dt_boxes num : 10, elapse : 0.45325589179992676\n",
            "[2022/04/05 09:08:10] ppocr DEBUG: cls num  : 10, elapse : 0.2782607078552246\n",
            "[2022/04/05 09:08:11] ppocr DEBUG: rec_res num  : 10, elapse : 0.9803664684295654\n",
            "\u001b[1m\u001b[34mExtracted Text from the given image file is:\u001b[0m\n",
            "इसिलएनहीहोसकतेतीनमहीनेमेंचुनाव\n",
            "डॉनअखबारकेअनुसारिनविचनआयोगकएकविरडअंधकारीनेकहाहैिकिनविचनशेञोंकानए\n",
            "िसरेसेपिरसीमनहोनाऔरिजेलातथानिनविचनशेञकआधारपरमतदातासूचीतैयारकरनाऐसीपमुख\n",
            "चुनौितयांहै॰िजनकेकारणआमचुनावकरानेमेलगभगछहमहीनेकासमयलगसकताहै\n",
            "आिधकारीनेकहािकखैबरपरूनखामेंवेंसंशोधनकोवजहसेसीटोंकोसंखयाबढ़गईहै.खबरके\n",
            "दजकरानेकाआमंञणदेनेकेिलएएकमहीनाअितिरवतचिहए\n",
            "आिधकारीनेकहािकचुनावपिकयासेसंबिधतःसामगीखरीदनामतपञोंकोळवरथाकरनाऔरचुनाव\n",
            "किमयोकोिनयुिवतथापिशभणभीएकचुनौतीहउहहोनेकहािक्कानूनकमुतिबकचुनावमं\n",
            "मतपञऔरवाटरमाककाइरतेमालहोगाजोदेशमेंउपलळधनहींहै॰िलहाजाइनकाआयातकरना\n"
          ]
        }
      ]
    },
    {
      "cell_type": "markdown",
      "source": [
        "### **05. AVAILABLE LANGUAGES AND MODEL NAMES**"
      ],
      "metadata": {
        "id": "IpdM49L6vUUJ"
      }
    },
    {
      "cell_type": "markdown",
      "source": [
        "![image.png](data:image/png;base64,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)"
      ],
      "metadata": {
        "id": "ac8vxRObug1X"
      }
    }
  ]
}